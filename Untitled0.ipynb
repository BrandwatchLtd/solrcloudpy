{
 "metadata": {
  "name": ""
 },
 "nbformat": 3,
 "nbformat_minor": 0,
 "worksheets": [
  {
   "cells": [
    {
     "cell_type": "code",
     "collapsed": false,
     "input": [
      "from solrcloudpy import *\n",
      "conn = SolrConnection(server=\"ue1a-api-solr1.cogtree.com\",password=\"k94m2B&7*%AQT7a\",user=\"cogtree\")\n",
      "slate = conn.slatecogtree"
     ],
     "language": "python",
     "metadata": {},
     "outputs": [],
     "prompt_number": 10
    },
    {
     "cell_type": "code",
     "collapsed": false,
     "input": [
      "sections = ['Arts', 'Politics', 'Job Creation', 'Entertainment', 'Image Albums', 'Upcoming Stops', 'Research', 'dirt bag', 'travel_and_food', 'Slate Plus', 'UPROXX', 'video', 'Innovation', 'Commentary', 'geek/cartoons', 'Events', 'Uncategorized', 'Policy + Regulation', 'edblog', 'Life', 'Business', 'entertainment', 'Globe Investor', 'watercooler', 'Featured', 'uncategorized', 'Parenting', 'Movies', 'Sponsored', 'Homekeeping', 'Double X', 'Press', 'Favorable Business Climates', 'Ohio Legislature', 'Report On Business', 'Fox News', 'tech', 'Inspiration', 'Browns', 'Business Model Innovation', 'Accident', 'Lifestyle', 'Breaking News', 'Metro', 'minnesota timberwolves', 'Business Insider', 'Home & Garden', 'Latest News', 'legalhr', 'Podcasts', 'Jobs & Skills', 'Advanced Manufacturing', 'Editorial', 'World', 'Alabamafootball', 'article', 'Sports', 'business_and_tech', 'Songs', 'arts_and_life', 'holiday', 'Love', 'News', 'Videos', 'world', \"A 'Lil Positivity'\", 'Video', 'Celebs', 'Global', 'Magazine', 'Fringe Factor', 'Hair', 'blogs', '49ers', 'memebase/videogames', 'Politics Headlines', 'Election', 'Stiri sexy', 'briefing', 'Health and Science', 'News and Politics', 'Competitiveness', 'Technology', 'style_and_shopping', 'Jobs + Skills']\n",
      "tags = ['democrats', 'tv', 'obamacare', 'crime', 'environment', 'health', 'women', 'finance', 'food', 'barack obama', 'mad men', 'gun control', 'nfl', 'taxes', 'google', 'climate change', 'twitter', 'sex', 'books', 'design', 'jobs', 'GE Roadshow', 'gay marriage', 'religion', 'olympics', 'medicine', 'international', 'Astronomy', 'national debt', 'transportation', 'business', 'lgbt', 'china', 'foreign policy', 'mitt romney', 'language', 'Movies', 'sochi olympics', 'economics', 'fiscal cliff', 'monetary policy', 'breaking bad', 'syria', 'apple', 'family', 'nsa', 'supreme court', 'weather', 'drones', 'social media', 'astronomy', 'privacy', 'housing', 'sports', 'music', 'government shutdown', 'republicans', 'immigration', 'photos', 'Trailer Critic', 'obama', 'television', 'animals', 'Family', 'science', 'abortion', 'podcasts', 'movies', 'marriage', 'lexicon valley', 'russia', 'history', 'fashion', 'debt ceiling', 'health care', 'campaign 2012', 'government surveillance', 'politics', 'education', 'technology', 'TV', 'media', 'slate book review', 'poetry', 'surveillance', 'maps', 'terrorism', 'comedy', 'economy', 'congress', 'advice', 'lgbtq', 'big questions', 'global warming', 'parenting', 'military', 'law', 'Mitt Romney', 'boston marathon bombing', 'facebook']"
     ],
     "language": "python",
     "metadata": {},
     "outputs": [],
     "prompt_number": 3
    },
    {
     "cell_type": "code",
     "collapsed": false,
     "input": [],
     "language": "python",
     "metadata": {},
     "outputs": [
      {
       "metadata": {},
       "output_type": "pyout",
       "prompt_number": 6,
       "text": [
        "{'facet.pivot': set(['section,tags'])}"
       ]
      }
     ],
     "prompt_number": 6
    },
    {
     "cell_type": "code",
     "collapsed": false,
     "input": [
      "fpivot = SearchOptions(q=\"*:*\")\n",
      "fpivot.facetparams.pivot(\"section,tags\")\n",
      "fpivot.facetparams.limit(10)\n",
      "\n",
      "pivots= slate.search(fpivot)\n",
      "pivots.result.facet_counts.facet_pivot[\"section,tags\"][0]\n",
      "pivots_section_tags = pivots.result.facet_counts.facet_pivot[\"section,tags\"]\n",
      "top_pivots = []\n",
      "for _dict in pivots_section_tags:\n",
      "    el = {}\n",
      "    el['value'] = _dict['value']\n",
      "    el['top'] = _dict['pivot'][:1]\n",
      "    top_pivots.append(el)"
     ],
     "language": "python",
     "metadata": {},
     "outputs": [],
     "prompt_number": 19
    },
    {
     "cell_type": "code",
     "collapsed": false,
     "input": [
      "#pivots.result.facet_counts.facet_pivot[\"section,tags\"][0]\n",
      "print top_pivots[0]"
     ],
     "language": "python",
     "metadata": {},
     "outputs": [
      {
       "output_type": "stream",
       "stream": "stdout",
       "text": [
        "{'top': [{u'count': 704, u'field': u'tags', u'value': u'politics'}], 'value': u'News and Politics'}\n"
       ]
      }
     ],
     "prompt_number": 21
    },
    {
     "cell_type": "code",
     "collapsed": false,
     "input": [
      "section = 'Technology'#'News and Politics'\n",
      "section_count = slate.search({'q':'section:%s'%section,}).result.response.numFound\n",
      "section_count\n",
      "\n",
      "article_count = slate.search({'q':'*:*',}).result.response.numFound\n",
      "\n",
      "foreground = float(section_count)/article_count\n",
      "print \"percent of articles w/ section '%s': \" % section, foreground, section_count"
     ],
     "language": "python",
     "metadata": {},
     "outputs": [
      {
       "output_type": "stream",
       "stream": "stdout",
       "text": [
        "percent of articles w/ section 'Technology':  0.0481495809155 3734\n"
       ]
      }
     ],
     "prompt_number": 51
    },
    {
     "cell_type": "code",
     "collapsed": false,
     "input": [
      "fpivot = SearchOptions(q=\"*:*\")\n",
      "fpivot.facetparams.pivot(\"section,tags\")\n",
      "#fpivot.facetparams.limit(5)\n",
      "\n",
      "pivots= slate.search(fpivot)\n",
      "pivots_section_tags = pivots.result.facet_counts.facet_pivot[\"section,tags\"]\n",
      "top_pivots = []\n",
      "for _dict in pivots_section_tags:\n",
      "    el = {}\n",
      "    sec = _dict['value']\n",
      "    #print _dict\n",
      "    if sec == section:\n",
      "        top = _dict['pivot'][0]\n",
      "        count = top['count']\n",
      "        r = float(count)/section_count\n",
      "        print \"top occuring is: '%s'\" % top['value'], r\n",
      "        #print _dict\n",
      "        #el['value'] = sec\n",
      "        #el['top'] = _dict['pivot'][:10]\n",
      "        #top_pivots.append(el)\n",
      " \n"
     ],
     "language": "python",
     "metadata": {},
     "outputs": [
      {
       "output_type": "stream",
       "stream": "stdout",
       "text": [
        "top occuring is: 'technology' 0.18184252812\n"
       ]
      }
     ],
     "prompt_number": 59
    },
    {
     "cell_type": "code",
     "collapsed": false,
     "input": [
      "fpivot = SearchOptions(q=\"tags:television\")\n",
      "fpivot.facetparams.pivot(\"author,section\")\n",
      "#fpivot.facetparams.mincount(10)\n",
      "\n",
      "pivots= slate.search(fpivot)\n",
      "pivots_title_section = pivots.result.facet_counts.facet_pivot[\"author,section\"]\n",
      "print pivots_title_section[0:3]"
     ],
     "language": "python",
     "metadata": {},
     "outputs": [
      {
       "output_type": "stream",
       "stream": "stdout",
       "text": [
        "[{u'count': 105, u'field': u'author', u'value': u'David Haglund', u'pivot': [{u'count': 105, u'field': u'section', u'value': u'Arts'}]}, {u'count': 78, u'field': u'author', u'value': u'June Thomas', u'pivot': [{u'count': 73, u'field': u'section', u'value': u'Arts'}, {u'count': 2, u'field': u'section', u'value': u'Double X'}, {u'count': 2, u'field': u'section', u'value': u'Life'}, {u'count': 1, u'field': u'section', u'value': u'Technology'}]}, {u'count': 33, u'field': u'author', u'value': u'Willa Paskin', u'pivot': [{u'count': 32, u'field': u'section', u'value': u'Arts'}, {u'count': 1, u'field': u'section', u'value': u'Sports'}]}]\n"
       ]
      }
     ],
     "prompt_number": 145
    },
    {
     "cell_type": "code",
     "collapsed": false,
     "input": [
      "# top tags for a given query\n",
      "fq1 = SearchOptions(q=\"tags:television\")\n",
      "fq1.facetparams.field(\"tags\")\n",
      "\n",
      "res = slate.search(fq1).result.facet_counts.facet_fields.tags\n",
      "top = sorted(res.dict.items(),key=lambda x:x[1],reverse=True)[:10]\n",
      "print top"
     ],
     "language": "python",
     "metadata": {},
     "outputs": [
      {
       "output_type": "stream",
       "stream": "stdout",
       "text": [
        "[('television', 492), ('comedy', 52), ('tv', 40), ('movies', 36), ('breaking bad', 28), ('sports', 16), ('mad men', 15), ('hbo girls', 15), ('TV', 15), ('music', 14)]\n"
       ]
      }
     ],
     "prompt_number": 141
    },
    {
     "cell_type": "code",
     "collapsed": false,
     "input": [
      "# top title keywords for a given query\n",
      "facet_field = 'tags'\n",
      "fq1 = SearchOptions(q=\"*:*\")\n",
      "fq1.facetparams.field(facet_field)\n",
      "\n",
      "res = slate.search(fq1).result.facet_counts.facet_fields[facet_field]\n",
      "top = sorted(res.dict.items(),key=lambda x:x[1],reverse=True)[:10]\n",
      "print top"
     ],
     "language": "python",
     "metadata": {},
     "outputs": [
      {
       "output_type": "stream",
       "stream": "stdout",
       "text": [
        "[('movies', 1007), ('technology', 932), ('politics', 884), ('books', 699), ('music', 693), ('tv', 684), ('campaign 2012', 542), ('sports', 503), ('television', 492), ('crime', 472)]\n"
       ]
      }
     ],
     "prompt_number": 131
    },
    {
     "cell_type": "code",
     "collapsed": false,
     "input": [
      "\n"
     ],
     "language": "python",
     "metadata": {},
     "outputs": [],
     "prompt_number": 120
    },
    {
     "cell_type": "code",
     "collapsed": false,
     "input": [],
     "language": "python",
     "metadata": {},
     "outputs": []
    }
   ],
   "metadata": {}
  }
 ]
}